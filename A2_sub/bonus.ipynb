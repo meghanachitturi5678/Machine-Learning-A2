{
 "cells": [
  {
   "cell_type": "code",
   "execution_count": 15,
   "metadata": {},
   "outputs": [],
   "source": [
    "import numpy as np\n",
    "import pandas as pd\n",
    "from sklearn.model_selection import train_test_split\n",
    "from sklearn.linear_model import LinearRegression\n",
    "import math"
   ]
  },
  {
   "cell_type": "code",
   "execution_count": 16,
   "metadata": {},
   "outputs": [
    {
     "name": "stdout",
     "output_type": "stream",
     "text": [
      "Intercept: [-8.29404964]\n",
      "Coeffcients: [[-0.2]]\n",
      "C : 4.999999999999627e-05\n",
      "R:  100000.00000000747\n"
     ]
    }
   ],
   "source": [
    "# Loading data from pickle file\n",
    "# We can apply log to the Q values to make the data linear\n",
    "data = pd.read_pickle('./capacitor_dataset.pickle')\n",
    "# print(data)\n",
    "variable_t = np.array(data[:, 0]).reshape(-1, 1)\n",
    "variable_Q = np.array(data[:, 1]).reshape(-1, 1)\n",
    "variable_Q = np.log(variable_Q)\n",
    "model = LinearRegression()\n",
    "model.fit(variable_t, variable_Q) # training the algorithm\n",
    "\n",
    "print(\"Intercept:\",model.intercept_)\n",
    "print(\"Coeffcients:\",model.coef_)\n",
    "\n",
    "# So, in order to obtain the values, logQ = logCV - t/RC can be used to determine the intercept.\n",
    "# Hence, as V = 5V, you now perform CV = e(regr intercept) and obtain the C value.\n",
    "# Hence, you do, After obtaining C, obtain R using the following formula: -1/RC\n",
    "\n",
    "variable_C = math.exp(model.intercept_)/5\n",
    "print(\"C :\",variable_C)\n",
    "variable_R = 1/((-1)*(-0.2)*variable_C)\n",
    "print(\"R: \",variable_R)"
   ]
  }
 ],
 "metadata": {
  "kernelspec": {
   "display_name": "Python 3",
   "language": "python",
   "name": "python3"
  },
  "language_info": {
   "codemirror_mode": {
    "name": "ipython",
    "version": 3
   },
   "file_extension": ".py",
   "mimetype": "text/x-python",
   "name": "python",
   "nbconvert_exporter": "python",
   "pygments_lexer": "ipython3",
   "version": "3.8.10"
  },
  "orig_nbformat": 4,
  "vscode": {
   "interpreter": {
    "hash": "916dbcbb3f70747c44a77c7bcd40155683ae19c65e1c03b4aa3499c5328201f1"
   }
  }
 },
 "nbformat": 4,
 "nbformat_minor": 2
}
